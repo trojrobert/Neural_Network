{
 "cells": [
  {
   "cell_type": "code",
   "execution_count": 6,
   "metadata": {},
   "outputs": [
    {
     "name": "stdout",
     "output_type": "stream",
     "text": [
      "Random starting synaptic weights :\n",
      "[[-0.16595599]\n",
      " [ 0.44064899]\n",
      " [-0.99977125]]\n",
      "New synaptic weights after training :\n",
      "[[ 9.67299303]\n",
      " [-0.2078435 ]\n",
      " [-4.62963669]]\n",
      "Predicting \n",
      "[0.99993704]\n"
     ]
    }
   ],
   "source": [
    "from numpy import exp, array, random, dot \n",
    "\n",
    "class NeuralNetwork():\n",
    "    \n",
    "    def __init__(self):\n",
    "        \n",
    "        #send the random number generator, so it generates the same numbers\n",
    "        #every time the program runs \n",
    "        random.seed(1)\n",
    "        \n",
    "        #we model a single neuron, with 3 input connections and 1 output connection\n",
    "        #we assign random weights to a 3 x 1 matrix, with values in the range -1 to 1 and mean 0\n",
    "        self.synaptic_weights = 2 * random.random((3,1)) - 1\n",
    "    \n",
    "    #The sigmoid function, which describes an s shaped curve \n",
    "    #we pass the weighted sum of the inputs through this function \n",
    "    #to normalise them between ) and 1 \n",
    "    def __sigmoid(self, x):\n",
    "        return 1/ (1 + exp(-x))\n",
    "    \n",
    "    def train(self, training_set_inputs, training_set_outputs, number_of_training_iterations):\n",
    "        for iteration in range(number_of_training_iterations):\n",
    "            \n",
    "            #pass the training set through our neural net \n",
    "            output = self.predict(training_set_inputs)\n",
    "            \n",
    "            #Calculate the error \n",
    "            error = training_set_outputs - output\n",
    "            \n",
    "            #multiply the error by the input and again by the gradient of the sigmond curve \n",
    "            \n",
    "            adjustment = dot(training_set_inputs.T, error * self.__sigmoid_derivative(output))\n",
    "    \n",
    "            #adjust the weights \n",
    "            self.synaptic_weights += adjustment \n",
    "            \n",
    "    #gradient of the sigmond curve         \n",
    "    def __sigmoid_derivative(self,x):\n",
    "        return x *  (1-x)\n",
    "    \n",
    "    def predict(self,inputs):\n",
    "        #pass inputs through our neural network(our single neuron)\n",
    "        return self.__sigmoid(dot(inputs, self.synaptic_weights))\n",
    "    \n",
    "if __name__ == '__main__':\n",
    "    \n",
    "    #initialise a single neuron neural network \n",
    "    neural_network = NeuralNetwork()\n",
    "    \n",
    "    print(\"Random starting synaptic weights :\")\n",
    "    print(neural_network.synaptic_weights)\n",
    "    \n",
    "    \n",
    "    #the training set. we have 4 examples, each consisting of 3 features values \n",
    "    # and 1 target \n",
    "    training_set_inputs = array([[0,0,1], [1,1,1], [1,0,1], [0,1,1]])\n",
    "    training_set_outputs = array([[0,1,1,0]]).T\n",
    "    \n",
    "    #train the neural network using a traininig set \n",
    "    #Do it 10,000 times and make small adjustments each time \n",
    "    neural_network.train(training_set_inputs, training_set_outputs, 10000)\n",
    "    \n",
    "    print(\"New synaptic weights after training :\")\n",
    "    print(neural_network.synaptic_weights)\n",
    "    \n",
    "    #Test the neural network \n",
    "    print(\"Predicting \")\n",
    "    print(neural_network.predict(array([1,0,0])))\n",
    "    "
   ]
  },
  {
   "cell_type": "code",
   "execution_count": null,
   "metadata": {},
   "outputs": [],
   "source": []
  }
 ],
 "metadata": {
  "kernelspec": {
   "display_name": "Python 3",
   "language": "python",
   "name": "python3"
  },
  "language_info": {
   "codemirror_mode": {
    "name": "ipython",
    "version": 3
   },
   "file_extension": ".py",
   "mimetype": "text/x-python",
   "name": "python",
   "nbconvert_exporter": "python",
   "pygments_lexer": "ipython3",
   "version": "3.6.4"
  }
 },
 "nbformat": 4,
 "nbformat_minor": 2
}
